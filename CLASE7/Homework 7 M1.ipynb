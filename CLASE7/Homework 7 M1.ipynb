{
 "cells": [
  {
   "cell_type": "markdown",
   "metadata": {},
   "source": [
    "# Práctica Clase 7"
   ]
  },
  {
   "cell_type": "markdown",
   "metadata": {},
   "source": [
    "1) Diseñar una clase que permita trabajar con un árbol binario y que contenga los métodos:<br>\n",
    "    * insertaVal: para insertar un dato<br>\n",
    "    * buscaVal: que devuelva True o False si existe o no un dato<br>\n",
    "    * verVal: que imprima por pantalla los valores del árbol<br>\n",
    "\n",
    "Nota: Se puede utilizar la recursividad\n"
   ]
  },
  {
   "cell_type": "code",
   "execution_count": null,
   "metadata": {},
   "outputs": [],
   "source": [
    "class Nodo():\n",
    "    def __init__(self, dato):\n",
    "        self.dato = dato\n",
    "        self.izq = None\n",
    "        self.der = None"
   ]
  },
  {
   "cell_type": "code",
   "execution_count": null,
   "metadata": {},
   "outputs": [],
   "source": [
    "class Arbol():\n",
    "    def __init__(self):\n",
    "        self.raiz = None\n",
    "\n",
    "    def insertaVal(self, dato, nodo=None):\n",
    "        if nodo is None:\n",
    "            nodo = Nodo(dato)\n",
    "            if self.raiz is None:\n",
    "                self.raiz = nodo\n",
    "        else:\n",
    "            if dato < nodo.dato:\n",
    "                if nodo.izq is None:\n",
    "                    nodo.izq = Nodo(dato)\n",
    "                else:\n",
    "                    self.insertaVal(dato, nodo.izq)\n",
    "            elif dato > nodo.dato:\n",
    "                if nodo.der is None:\n",
    "                    nodo.der = Nodo(dato)\n",
    "                else:\n",
    "                    self.insertaVal(dato, nodo.der)\n",
    "\n",
    "    def buscaVal(self, dato, nodo=None):\n",
    "        if nodo is None:\n",
    "            nodo = self.raiz\n",
    "        if nodo is None:\n",
    "            return False\n",
    "        if dato == nodo.dato:\n",
    "            return True\n",
    "        elif dato < nodo.dato:\n",
    "            return self.buscaVal(dato, nodo.izq)\n",
    "        else:\n",
    "            return self.buscaVal(dato, nodo.der)\n",
    "\n",
    "    def verVal(self, nodo=None):\n",
    "        if nodo is None:\n",
    "            nodo = self.raiz\n",
    "        if nodo is not None:\n",
    "            self.verVal(nodo.izq)\n",
    "            print(nodo.dato)\n",
    "            self.verVal(nodo.der)"
   ]
  },
  {
   "cell_type": "code",
   "execution_count": null,
   "metadata": {},
   "outputs": [],
   "source": [
    "a = Arbol()"
   ]
  },
  {
   "cell_type": "code",
   "execution_count": null,
   "metadata": {},
   "outputs": [],
   "source": [
    "a.insertaVal(2)\n",
    "a.insertaVal(3)\n",
    "a.insertaVal(5)\n",
    "a.insertaVal(4)\n",
    "a.insertaVal(7)"
   ]
  },
  {
   "cell_type": "code",
   "execution_count": null,
   "metadata": {},
   "outputs": [],
   "source": [
    "a.verVal()"
   ]
  },
  {
   "cell_type": "code",
   "execution_count": null,
   "metadata": {},
   "outputs": [],
   "source": [
    "print(a.buscaVal(4))\n",
    "print(a.buscaVal(6))"
   ]
  }
 ],
 "metadata": {
  "kernelspec": {
   "display_name": "Python 3",
   "language": "python",
   "name": "python3"
  },
  "language_info": {
   "codemirror_mode": {
    "name": "ipython",
    "version": 3
   },
   "file_extension": ".py",
   "mimetype": "text/x-python",
   "name": "python",
   "nbconvert_exporter": "python",
   "pygments_lexer": "ipython3",
   "version": "3.12.0"
  }
 },
 "nbformat": 4,
 "nbformat_minor": 4
}
